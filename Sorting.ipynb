{
 "cells": [
  {
   "cell_type": "markdown",
   "metadata": {},
   "source": [
    "## <center>INSERTION SORT</center>"
   ]
  },
  {
   "cell_type": "markdown",
   "metadata": {},
   "source": [
    "Want to sort an array A\n",
    "- First item in array in is sorted\n",
    "- Consider next item: If smaller than the item to the left, swap.\n",
    "- Consider the third item: If smaller than item to the left, swap leftwise until in proper order relative to two items.\n",
    "- Repeat for every item in array"
   ]
  },
  {
   "cell_type": "markdown",
   "metadata": {},
   "source": [
    "<font color='purple'>__Algorithm__:</font> InsertionSort(A):<br><br> \n",
    "&nbsp;__Input__: An array A of comparable elements<br>\n",
    "    &nbsp;__Output__: The array A sorted in non-decreasing order<br><br>\n",
    "    &nbsp;__for__ k from 1 to n-1 __do__ <br>\n",
    "    &nbsp;&nbsp;&nbsp;&nbsp;&nbsp;Insert A[k] in it's proper location within A[0], A[1], ... A[k]\n",
    "\n",
    "\n",
    "<font color='purple'>__Runtime__:</font> O(n<sp>2</sp>) in worst case, O(n) on mostly sorted values"
   ]
  },
  {
   "cell_type": "code",
   "execution_count": 67,
   "metadata": {
    "collapsed": true
   },
   "outputs": [],
   "source": [
    "def insertion_sort(A):\n",
    "    \n",
    "    for idx in range(1, len(A)):\n",
    "        print('\\nOriginal: {}'.format(A))\n",
    "        val = A[idx]\n",
    "        \n",
    "        print('Evaluating: {}'.format(val))\n",
    "        curr_idx = idx\n",
    "        \n",
    "        while curr_idx > 0 and A[curr_idx-1] > val:\n",
    "            print('\\tEvaluating at: {} ... between {}, {}'.format(curr_idx, A[idx-1], val))\n",
    "            A[curr_idx] = A[curr_idx - 1]\n",
    "            curr_idx -= 1\n",
    "            \n",
    "            print('\\tSwapping: {}'.format(A))\n",
    "        A[curr_idx] = val\n",
    "\n",
    "        \n",
    "        print('Final: {}'.format(A))\n",
    "    return A"
   ]
  },
  {
   "cell_type": "code",
   "execution_count": 68,
   "metadata": {
    "collapsed": true
   },
   "outputs": [],
   "source": [
    "A = [5, 4, 2, 3, 1]"
   ]
  },
  {
   "cell_type": "code",
   "execution_count": 69,
   "metadata": {
    "scrolled": true
   },
   "outputs": [
    {
     "name": "stdout",
     "output_type": "stream",
     "text": [
      "\n",
      "Original: [5, 4, 2, 3, 1]\n",
      "Evaluating: 4\n",
      "\tEvaluating at: 1 ... between 5, 4\n",
      "\tSwapping: [5, 5, 2, 3, 1]\n",
      "Final: [4, 5, 2, 3, 1]\n",
      "\n",
      "Original: [4, 5, 2, 3, 1]\n",
      "Evaluating: 2\n",
      "\tEvaluating at: 2 ... between 5, 2\n",
      "\tSwapping: [4, 5, 5, 3, 1]\n",
      "\tEvaluating at: 1 ... between 5, 2\n",
      "\tSwapping: [4, 4, 5, 3, 1]\n",
      "Final: [2, 4, 5, 3, 1]\n",
      "\n",
      "Original: [2, 4, 5, 3, 1]\n",
      "Evaluating: 3\n",
      "\tEvaluating at: 3 ... between 5, 3\n",
      "\tSwapping: [2, 4, 5, 5, 1]\n",
      "\tEvaluating at: 2 ... between 5, 3\n",
      "\tSwapping: [2, 4, 4, 5, 1]\n",
      "Final: [2, 3, 4, 5, 1]\n",
      "\n",
      "Original: [2, 3, 4, 5, 1]\n",
      "Evaluating: 1\n",
      "\tEvaluating at: 4 ... between 5, 1\n",
      "\tSwapping: [2, 3, 4, 5, 5]\n",
      "\tEvaluating at: 3 ... between 5, 1\n",
      "\tSwapping: [2, 3, 4, 4, 5]\n",
      "\tEvaluating at: 2 ... between 4, 1\n",
      "\tSwapping: [2, 3, 3, 4, 5]\n",
      "\tEvaluating at: 1 ... between 4, 1\n",
      "\tSwapping: [2, 2, 3, 4, 5]\n",
      "Final: [1, 2, 3, 4, 5]\n"
     ]
    },
    {
     "data": {
      "text/plain": [
       "[1, 2, 3, 4, 5]"
      ]
     },
     "execution_count": 69,
     "metadata": {},
     "output_type": "execute_result"
    }
   ],
   "source": [
    "insertion_sort(A)"
   ]
  },
  {
   "cell_type": "code",
   "execution_count": null,
   "metadata": {
    "collapsed": true
   },
   "outputs": [],
   "source": []
  },
  {
   "cell_type": "markdown",
   "metadata": {},
   "source": [
    "## <center>MERGE SORT</center>"
   ]
  },
  {
   "cell_type": "markdown",
   "metadata": {},
   "source": [
    "<font color='purple'>__Divide-and-conquer method:__</font>\n",
    "- __Divide__: if input is smaller than threshold, solve directly. Otherwise, divide input data into two or more disjoint sets\n",
    "- __Conquer__: Recursively solve subproblems associated with subsets\n",
    "- __Combine__: Take solutions to subproblems and merge into a solution to the original problem"
   ]
  },
  {
   "cell_type": "markdown",
   "metadata": {},
   "source": [
    "<font color='purple'>__High level description in Merge Sort__</font>\n",
    "\n",
    "To sort a sequence S in n elements using three divide-and-conquer steps:\n",
    "1. __Divide__:\n",
    "    + if S has 0 or 1 element, return S immediately\n",
    "    + if S has >=2 elements, remove all the elements from S and put them into 2 sequences: S1 has n/2 elements, S2 has remaining elements.\n",
    "2. __Conquer__:\n",
    "    + Recursively sort sequences S1 and S2\n",
    "3. __Combine__:\n",
    "    + Put by elements into S by merging the sorted sequences S1 and S2"
   ]
  },
  {
   "cell_type": "code",
   "execution_count": 83,
   "metadata": {
    "collapsed": true
   },
   "outputs": [],
   "source": [
    "def merge(seq_1, seq_2, seq):\n",
    "    '''Final merging step'''\n",
    "    \n",
    "    i = j = 0\n",
    "    \n",
    "    while i + j < len(seq): # not yet complete the entire sequence\n",
    "        if (j >= len(seq_2)) or (i < len(seq_1) and seq_1[i] < seq_2[j]):\n",
    "            seq[i+j] = seq_1[i]\n",
    "            i += 1\n",
    "        else:\n",
    "            seq[i+j] = seq_2[j]\n",
    "            j += 1\n",
    "            "
   ]
  },
  {
   "cell_type": "code",
   "execution_count": 84,
   "metadata": {
    "collapsed": true
   },
   "outputs": [],
   "source": [
    "def merge_sort(seq):\n",
    "    n = len(seq)\n",
    "    \n",
    "    if n < 2:\n",
    "        return seq\n",
    "    \n",
    "    mid = n // 2\n",
    "    \n",
    "    seq_1 = seq[:mid]\n",
    "    seq_2 = seq[mid:n]\n",
    "    merge_sort(seq_1)\n",
    "    merge_sort(seq_2)\n",
    "    \n",
    "    merge(seq_1, seq_2, seq)"
   ]
  },
  {
   "cell_type": "code",
   "execution_count": 94,
   "metadata": {},
   "outputs": [],
   "source": [
    "L = [8, 4, 8, 4, 7, 4, 99]"
   ]
  },
  {
   "cell_type": "code",
   "execution_count": 95,
   "metadata": {},
   "outputs": [],
   "source": [
    "merge_sort(L)"
   ]
  },
  {
   "cell_type": "code",
   "execution_count": 96,
   "metadata": {},
   "outputs": [
    {
     "data": {
      "text/plain": [
       "[4, 4, 4, 7, 8, 8, 99]"
      ]
     },
     "execution_count": 96,
     "metadata": {},
     "output_type": "execute_result"
    }
   ],
   "source": [
    "L"
   ]
  },
  {
   "cell_type": "markdown",
   "metadata": {},
   "source": []
  },
  {
   "cell_type": "markdown",
   "metadata": {},
   "source": [
    "## <center>QUICK SORT</center>"
   ]
  },
  {
   "cell_type": "markdown",
   "metadata": {},
   "source": [
    "Also uses divide and conquer, except hard work is done before recursive calls\n",
    "\n",
    "<font color='purple'>__High level description in Merge Sort__</font>\n",
    "\n",
    "To sort a sequence S in n elements using three divide-and-conquer steps:\n",
    "1. __Divide__:\n",
    "    + if S has 0 or 1 element, return S immediately\n",
    "    + if S has >=2 elements, pick a pivot value x and divide data into 3 sequences: L, E, G.\n",
    "2. __Conquer__:\n",
    "    + Recursively solve subproblems associated with L and G\n",
    "3. __Combine__:\n",
    "    + Put back into original sequence L, E, G and return"
   ]
  },
  {
   "cell_type": "code",
   "execution_count": 97,
   "metadata": {
    "collapsed": true
   },
   "outputs": [],
   "source": [
    "from collections import deque"
   ]
  },
  {
   "cell_type": "code",
   "execution_count": 128,
   "metadata": {
    "collapsed": true
   },
   "outputs": [],
   "source": [
    "class LinkedQueue:\n",
    "    def __init__(self):\n",
    "        self.queue = deque()\n",
    "    \n",
    "    def first(self):\n",
    "        if len(self.queue) > 0:\n",
    "            return self.queue[0]\n",
    "        return None\n",
    "    \n",
    "    def enqueue(self, val):\n",
    "        self.queue.append(val)\n",
    "        \n",
    "    def dequeue(self):\n",
    "        return self.queue.popleft()\n",
    "    \n",
    "    def is_empty(self):\n",
    "        return len(self.queue) == 0\n",
    "    \n",
    "    def __len__(self):\n",
    "        return len(self.queue)"
   ]
  },
  {
   "cell_type": "code",
   "execution_count": 137,
   "metadata": {
    "collapsed": true
   },
   "outputs": [],
   "source": [
    "def quick_sort(S):\n",
    "    \n",
    "    N = len(S)\n",
    "    if N < 2:\n",
    "        return\n",
    "    \n",
    "    pivot = S.first()\n",
    "    \n",
    "    L = LinkedQueue()\n",
    "    E = LinkedQueue()\n",
    "    G = LinkedQueue()\n",
    "    \n",
    "    while not S.is_empty():\n",
    "        if S.first() < pivot:\n",
    "            L.enqueue(S.dequeue())\n",
    "            \n",
    "        elif S.first() > pivot:\n",
    "            G.enqueue(S.dequeue())\n",
    "        else:\n",
    "            E.enqueue(S.dequeue())\n",
    "            \n",
    "    quick_sort(L)\n",
    "    quick_sort(G)\n",
    "    \n",
    "    while not L.is_empty():\n",
    "        S.enqueue(L.dequeue())\n",
    "    \n",
    "    while not E.is_empty():\n",
    "        S.enqueue(E.dequeue())\n",
    "        \n",
    "    while not G.is_empty():\n",
    "        S.enqueue(G.dequeue())"
   ]
  },
  {
   "cell_type": "code",
   "execution_count": 138,
   "metadata": {
    "collapsed": true
   },
   "outputs": [],
   "source": [
    "lst = [1, 5,5, 7, 3, 8, 5, 2, 9, 0]\n",
    "\n",
    "S = LinkedQueue()\n",
    "for val in lst:\n",
    "    S.enqueue(val)"
   ]
  },
  {
   "cell_type": "code",
   "execution_count": 139,
   "metadata": {},
   "outputs": [
    {
     "name": "stdout",
     "output_type": "stream",
     "text": [
      "deque([1, 5, 5, 7, 3, 8, 5, 2, 9, 0])\n"
     ]
    }
   ],
   "source": [
    "print(S.queue)"
   ]
  },
  {
   "cell_type": "code",
   "execution_count": 140,
   "metadata": {},
   "outputs": [],
   "source": [
    "quick_sort(S)"
   ]
  },
  {
   "cell_type": "code",
   "execution_count": 141,
   "metadata": {},
   "outputs": [
    {
     "name": "stdout",
     "output_type": "stream",
     "text": [
      "deque([0, 1, 2, 3, 5, 5, 5, 7, 8, 9])\n"
     ]
    }
   ],
   "source": [
    "print(S.queue)"
   ]
  },
  {
   "cell_type": "code",
   "execution_count": 142,
   "metadata": {
    "collapsed": true
   },
   "outputs": [],
   "source": [
    "def inplace_quick_sort(S, a, b): # self array inplace from a to b index\n",
    "    \n",
    "    if a >= b: return\n",
    "    \n",
    "    # pick last element as pivot\n",
    "    pivot = S[b]\n",
    "    \n",
    "    left = a\n",
    "    right = b-1\n",
    "    \n",
    "    while left <= right:\n",
    "        \n",
    "        # scan until left value is larger than pivot\n",
    "        while left <= right and S[left] < pivot:\n",
    "            left += 1\n",
    "            \n",
    "        # scan until right value is less than pivot\n",
    "        while left <= right and pivot < S[right]:\n",
    "            right -= 1\n",
    "            \n",
    "        # swap when scans did not cross each other\n",
    "        if left <= right:\n",
    "            S[left], S[right] = S[right], S[left]\n",
    "            left, right = left + 1, right - 1\n",
    "            \n",
    "    # put pivot into it's final place, currently marked by left index\n",
    "    S[left], S[b] = S[b], S[left]\n",
    "    \n",
    "    inplace_quick_sort(S, a, left - 1)\n",
    "    inplace_quick_sort(S, left+1, b)"
   ]
  },
  {
   "cell_type": "code",
   "execution_count": 146,
   "metadata": {},
   "outputs": [],
   "source": [
    "inplace_quick_sort(lst, 0, len(lst)-1)"
   ]
  },
  {
   "cell_type": "code",
   "execution_count": 147,
   "metadata": {},
   "outputs": [
    {
     "data": {
      "text/plain": [
       "[0, 1, 2, 3, 5, 5, 5, 7, 8, 9]"
      ]
     },
     "execution_count": 147,
     "metadata": {},
     "output_type": "execute_result"
    }
   ],
   "source": [
    "lst"
   ]
  },
  {
   "cell_type": "code",
   "execution_count": null,
   "metadata": {
    "collapsed": true
   },
   "outputs": [],
   "source": []
  }
 ],
 "metadata": {
  "kernelspec": {
   "display_name": "Python 3",
   "language": "python",
   "name": "python3"
  },
  "language_info": {
   "codemirror_mode": {
    "name": "ipython",
    "version": 3
   },
   "file_extension": ".py",
   "mimetype": "text/x-python",
   "name": "python",
   "nbconvert_exporter": "python",
   "pygments_lexer": "ipython3",
   "version": "3.6.3"
  }
 },
 "nbformat": 4,
 "nbformat_minor": 2
}
