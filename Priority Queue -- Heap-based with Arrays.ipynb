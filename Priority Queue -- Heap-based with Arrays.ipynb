{
 "cells": [
  {
   "cell_type": "markdown",
   "metadata": {},
   "source": [
    "Base Class for Priority Queue"
   ]
  },
  {
   "cell_type": "code",
   "execution_count": 39,
   "metadata": {
    "collapsed": true
   },
   "outputs": [],
   "source": [
    "class PriorityQueueBase:\n",
    "    class _Item:\n",
    "        __slots__ = '_key', '_value'\n",
    "        \n",
    "        def __init__(self, k, v):\n",
    "            self._key = k\n",
    "            self._value = v\n",
    "            \n",
    "        def __lt__(self, other):\n",
    "            return self._key < other._key\n",
    "        \n",
    "        def is_empty(self):\n",
    "            return len(self) == 0"
   ]
  },
  {
   "cell_type": "code",
   "execution_count": 96,
   "metadata": {
    "collapsed": true
   },
   "outputs": [],
   "source": [
    "class HeapPriorityQueue(PriorityQueueBase):\n",
    "    \n",
    "    def __init__(self, contents=()):\n",
    "        self._data = [self._Item(k, v) for k, v in contents]\n",
    "        if len(self._data) > 1:\n",
    "            print('heapify called')\n",
    "            self._heapify()\n",
    "            \n",
    "    def _heapify(self):\n",
    "        start = self._parent(len(self) -1)\n",
    "        print('starting length: {}'.format(len(self)))\n",
    "        for j in range(start, -1, -1):\n",
    "            print('\\nidx: {}'.format(j))\n",
    "            print(self)\n",
    "            self._downheap(j)\n",
    "        \n",
    "    def __len__(self):\n",
    "        return len(self._data)\n",
    "    \n",
    "    def _parent(self, p):\n",
    "        return (p-1) // 2\n",
    "    \n",
    "    def _left(self, p):\n",
    "        return 2 * p + 1\n",
    "    \n",
    "    def _right(self, p):\n",
    "        return 2 * p + 2\n",
    "    \n",
    "    def _has_left(self, p):\n",
    "        return self._left(p) < len(self._data)\n",
    "    \n",
    "    def _has_right(self, p):\n",
    "        return self._right(p) < len(self._data)\n",
    "    \n",
    "    def _swap(self, i, j):\n",
    "        self._data[i], self._data[j] = self._data[j], self._data[i]\n",
    "        \n",
    "    def _upheap(self, p):\n",
    "        parent_idx = self._parent(p)\n",
    "        \n",
    "        if p > 0 and self._data[p] < self._data[parent_idx]:\n",
    "            self._swap(p, parent_idx)\n",
    "            self._upheap(parent_idx)\n",
    "            \n",
    "    def _downheap(self, p):\n",
    "        print('Downheap called')\n",
    "        if self._has_left(p):\n",
    "            print('Has left')\n",
    "            left_idx = self._left(p)\n",
    "            smaller_idx = left_idx\n",
    "            \n",
    "            if self._has_right(p):\n",
    "                print('Has right')\n",
    "                right_idx = self._right(p)\n",
    "                \n",
    "                if self._data[left_idx] > self._data[right_idx]:\n",
    "                    print('Picking right child: {} vs {}'.format(self._data[left_idx]._key, self._data[right_idx]._key))\n",
    "                    smaller_idx = right_idx\n",
    "                    \n",
    "            if self._data[smaller_idx] < self._data[p]:\n",
    "                print('Swapping')\n",
    "                self._swap(smaller_idx, p)\n",
    "                self._downheap(smaller_idx)\n",
    "                \n",
    "        print(self)\n",
    "                \n",
    "                \n",
    "    # ===== Public behavior ==========\n",
    "    def add(self, key, val):\n",
    "        self._data.append(self._Item(key, val))\n",
    "        self._upheap(len(self._data)-1)\n",
    "        \n",
    "        \n",
    "    def min(self):\n",
    "        if self._is_empty():\n",
    "            raise Exception(\"oops\")\n",
    "            \n",
    "        item = self._data[0]\n",
    "        return (item._key, item._value)\n",
    "    \n",
    "    def remove_min(self):\n",
    "        if self._is_empty():\n",
    "            raise Exception('Double oops')\n",
    "            \n",
    "        self._swap(0, len(self._data)-1)\n",
    "        \n",
    "        item = self._data.pop()\n",
    "        \n",
    "        self._downheap(0)\n",
    "        \n",
    "        return (item._key, item._value)\n",
    "    \n",
    "    def __str__(self):\n",
    "        keys = []\n",
    "        vals = []\n",
    "        \n",
    "        for item in self._data:\n",
    "            keys.append(str(item._key))\n",
    "            vals.append(str(item._value))\n",
    "            \n",
    "        return ' '.join(keys) + '___' +  ' '.join(vals)"
   ]
  },
  {
   "cell_type": "code",
   "execution_count": 97,
   "metadata": {},
   "outputs": [
    {
     "name": "stdout",
     "output_type": "stream",
     "text": [
      "2___6\n",
      "2 2___6 3\n",
      "1 2 2___7 3 6\n",
      "1 1 2 2___7 2 6 3\n",
      "1 1 2 2 6___7 2 6 3 8\n",
      "1 1 2 2 6 3___7 2 6 3 8 6\n",
      "1 1 2 2 6 3 4___7 2 6 3 8 6 4\n"
     ]
    }
   ],
   "source": [
    "items = [6, 3, 7, 2, 8,6, 4]\n",
    "keys = [2, 2, 1, 1, 6, 3, 4]\n",
    "\n",
    "heap = HeapPriorityQueue()\n",
    "\n",
    "for key, item in zip(keys, items):\n",
    "    heap.add(key,item)\n",
    "     \n",
    "    print(heap)"
   ]
  },
  {
   "cell_type": "code",
   "execution_count": 98,
   "metadata": {},
   "outputs": [
    {
     "name": "stdout",
     "output_type": "stream",
     "text": [
      "heapify called\n",
      "starting length: 7\n",
      "\n",
      "idx: 2\n",
      "2 2 1 1 6 3 4___6 3 7 2 8 6 4\n",
      "Downheap called\n",
      "Has left\n",
      "Has right\n",
      "2 2 1 1 6 3 4___6 3 7 2 8 6 4\n",
      "\n",
      "idx: 1\n",
      "2 2 1 1 6 3 4___6 3 7 2 8 6 4\n",
      "Downheap called\n",
      "Has left\n",
      "Has right\n",
      "Swapping\n",
      "Downheap called\n",
      "2 1 1 2 6 3 4___6 2 7 3 8 6 4\n",
      "2 1 1 2 6 3 4___6 2 7 3 8 6 4\n",
      "\n",
      "idx: 0\n",
      "2 1 1 2 6 3 4___6 2 7 3 8 6 4\n",
      "Downheap called\n",
      "Has left\n",
      "Has right\n",
      "Swapping\n",
      "Downheap called\n",
      "Has left\n",
      "Has right\n",
      "1 2 1 2 6 3 4___2 6 7 3 8 6 4\n",
      "1 2 1 2 6 3 4___2 6 7 3 8 6 4\n"
     ]
    }
   ],
   "source": [
    "heap2 = HeapPriorityQueue((k, v) for k, v in zip(keys, items))"
   ]
  },
  {
   "cell_type": "code",
   "execution_count": 99,
   "metadata": {},
   "outputs": [
    {
     "name": "stdout",
     "output_type": "stream",
     "text": [
      "1 2 1 2 6 3 4___2 6 7 3 8 6 4\n"
     ]
    }
   ],
   "source": [
    "print(heap2)"
   ]
  },
  {
   "cell_type": "code",
   "execution_count": null,
   "metadata": {
    "collapsed": true
   },
   "outputs": [],
   "source": []
  },
  {
   "cell_type": "code",
   "execution_count": null,
   "metadata": {
    "collapsed": true
   },
   "outputs": [],
   "source": []
  },
  {
   "cell_type": "code",
   "execution_count": null,
   "metadata": {
    "collapsed": true
   },
   "outputs": [],
   "source": []
  },
  {
   "cell_type": "code",
   "execution_count": 101,
   "metadata": {},
   "outputs": [],
   "source": [
    "lst1 = range(1, 15)\n",
    "lst2 = range(2, 16)\n",
    "lst3 = range(3, 17)"
   ]
  },
  {
   "cell_type": "code",
   "execution_count": 102,
   "metadata": {
    "collapsed": true
   },
   "outputs": [],
   "source": [
    "from heapq import merge"
   ]
  },
  {
   "cell_type": "code",
   "execution_count": 103,
   "metadata": {
    "collapsed": true
   },
   "outputs": [],
   "source": [
    "heapiter = merge(lst1, lst2)"
   ]
  },
  {
   "cell_type": "code",
   "execution_count": 104,
   "metadata": {},
   "outputs": [
    {
     "data": {
      "text/plain": [
       "[1,\n",
       " 2,\n",
       " 2,\n",
       " 3,\n",
       " 3,\n",
       " 4,\n",
       " 4,\n",
       " 5,\n",
       " 5,\n",
       " 6,\n",
       " 6,\n",
       " 7,\n",
       " 7,\n",
       " 8,\n",
       " 8,\n",
       " 9,\n",
       " 9,\n",
       " 10,\n",
       " 10,\n",
       " 11,\n",
       " 11,\n",
       " 12,\n",
       " 12,\n",
       " 13,\n",
       " 13,\n",
       " 14,\n",
       " 14,\n",
       " 15]"
      ]
     },
     "execution_count": 104,
     "metadata": {},
     "output_type": "execute_result"
    }
   ],
   "source": [
    "list(heapiter)"
   ]
  },
  {
   "cell_type": "code",
   "execution_count": null,
   "metadata": {
    "collapsed": true
   },
   "outputs": [],
   "source": []
  }
 ],
 "metadata": {
  "kernelspec": {
   "display_name": "Python 3",
   "language": "python",
   "name": "python3"
  },
  "language_info": {
   "codemirror_mode": {
    "name": "ipython",
    "version": 3
   },
   "file_extension": ".py",
   "mimetype": "text/x-python",
   "name": "python",
   "nbconvert_exporter": "python",
   "pygments_lexer": "ipython3",
   "version": "3.6.3"
  }
 },
 "nbformat": 4,
 "nbformat_minor": 2
}
