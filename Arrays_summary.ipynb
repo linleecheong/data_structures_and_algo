{
 "cells": [
  {
   "cell_type": "markdown",
   "metadata": {},
   "source": [
    "# <center><font color='purple'>ARRAYS</font></center>\n",
    "<center> Book: Data Structures & Algorithms in Python</center>\n",
    "<center> Author: Goodrich </center>"
   ]
  },
  {
   "cell_type": "markdown",
   "metadata": {},
   "source": [
    "Python 'sequence' classes: *list*, *tuple*, *str* classes"
   ]
  },
  {
   "cell_type": "markdown",
   "metadata": {},
   "source": [
    "### 1. Low Level Arrays"
   ]
  },
  {
   "cell_type": "markdown",
   "metadata": {},
   "source": [
    "- Each cell of an array must use the same number of bytes\n",
    "- Use <font color='dark red'>index</font> to refer location within array"
   ]
  },
  {
   "cell_type": "markdown",
   "metadata": {},
   "source": [
    "### 2. Referential arrays"
   ]
  },
  {
   "cell_type": "markdown",
   "metadata": {},
   "source": [
    "-  Python represensts lists/tuples using internal storage mechanism of <font color='dark red'>an array of object references</font>\n",
    "-  Although relative size of individual elements vary, number of bits used to store memory address for each element is fixed\n",
    "-  <font color='dark red'>Shallow copy</font> : references the same elements in another list\n",
    "-  <font color='dark red'>Deep copy</font> : making a new list with new elements\n",
    "\n",
    "<font color='green'>Example 1:</font> [0] * 8 creates 8 elements pointing to the same object\n",
    "\n",
    "<font color='green'>Example 2:</font> extend command receives references to those elements, not new objects."
   ]
  },
  {
   "cell_type": "markdown",
   "metadata": {},
   "source": [
    "### 3. Dynamic arrays and amortization"
   ]
  },
  {
   "cell_type": "markdown",
   "metadata": {},
   "source": [
    "Capacity of arrays cannot be increased trivially. Dynamic arrays address this by:\n",
    "1. Maintaining underlying array with <font color='dark red'>greater capacity</font> than current length\n",
    "2. Request new larger array when reserved capacity is exhausted (<font color='dark red'>2x existing size</font>)\n",
    "\n",
    "So the reported bytes devoted to array is not just the space devoted to the elements referenced by list"
   ]
  },
  {
   "cell_type": "markdown",
   "metadata": {},
   "source": [
    "<font color='dark red'>__Amortized Runtime__ = O(1) per insertion </font>, or O(n) for each n append operations. This relies on array being increased geometrically in capacity. Arithmetic progression takes O(n<sup>2</sup>) time instead!\n",
    "\n",
    "Similarly, the array size is reduced by 1/2 whenever the capacity usage falls below 1/4."
   ]
  },
  {
   "cell_type": "markdown",
   "metadata": {},
   "source": [
    "# <center><font color='purple'> IMPLEMENTATION </font></center>"
   ]
  },
  {
   "cell_type": "code",
   "execution_count": 2,
   "metadata": {
    "collapsed": true
   },
   "outputs": [],
   "source": [
    "import ctypes"
   ]
  },
  {
   "cell_type": "code",
   "execution_count": 8,
   "metadata": {
    "collapsed": true
   },
   "outputs": [],
   "source": [
    "class DynamicArray:\n",
    "\n",
    "    # create empty array\n",
    "    def __init__(self):\n",
    "        self._num_filled = 0\n",
    "        self._capacity = 1\n",
    "        self._array = self._make_array(self._capacity)\n",
    "    \n",
    "    def __len__(self):\n",
    "        return self._num_filled\n",
    "        \n",
    "    def __getitem__(self, idx):\n",
    "        if not 0 <= idx < self._num_filled:\n",
    "            raise IndexError('Index invalid')\n",
    "        return self._array[idx]\n",
    "    \n",
    "    def append(self, obj):\n",
    "        if self._num_filled == self._capacity:\n",
    "            self._resize(2 * self._capacity)\n",
    "        self._array[self._num_filled] = obj\n",
    "        self._num_filled += 1\n",
    "        \n",
    "    def _resize(self, new_size):\n",
    "        print('resizing called: {}'.format(new_size))\n",
    "        new_array = self._make_array(new_size)\n",
    "        \n",
    "        for idx in range(self._num_filled):\n",
    "            new_array[idx] = self._array[idx]\n",
    "            \n",
    "        self._array = new_array\n",
    "        \n",
    "        self._capacity = new_size\n",
    "        \n",
    "    def _make_array(self, size):\n",
    "        return (size * ctypes.py_object)()"
   ]
  },
  {
   "cell_type": "code",
   "execution_count": 9,
   "metadata": {},
   "outputs": [
    {
     "name": "stdout",
     "output_type": "stream",
     "text": [
      "resizing called: 2\n",
      "resizing called: 4\n",
      "resizing called: 8\n",
      "resizing called: 16\n"
     ]
    }
   ],
   "source": [
    "array = DynamicArray()\n",
    "for num in range(10):\n",
    "    array.append(num)"
   ]
  }
 ],
 "metadata": {
  "kernelspec": {
   "display_name": "Python 3",
   "language": "python",
   "name": "python3"
  },
  "language_info": {
   "codemirror_mode": {
    "name": "ipython",
    "version": 3
   },
   "file_extension": ".py",
   "mimetype": "text/x-python",
   "name": "python",
   "nbconvert_exporter": "python",
   "pygments_lexer": "ipython3",
   "version": "3.6.3"
  }
 },
 "nbformat": 4,
 "nbformat_minor": 2
}
