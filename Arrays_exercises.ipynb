{
 "cells": [
  {
   "cell_type": "markdown",
   "metadata": {},
   "source": [
    "# <center><font color='purple'> ARRAYS EXERCISES </font></center>\n",
    "<center> __Practice makes perfect! :)__</center> \n"
   ]
  },
  {
   "cell_type": "markdown",
   "metadata": {},
   "source": [
    "### __Exercise #1__<br>\n",
    "Rotate an array of n elements to the right by k steps. For example, with n = 7 and k = 3, the array [1,2,3,4,5,6,7] is rotated to [5,6,7,1,2,3,4]."
   ]
  },
  {
   "cell_type": "code",
   "execution_count": 12,
   "metadata": {
    "collapsed": true
   },
   "outputs": [],
   "source": [
    "def right_rot_via_slicing(lst, k):\n",
    "    lst[:] = lst[-k :] + lst[:-k]"
   ]
  },
  {
   "cell_type": "code",
   "execution_count": 15,
   "metadata": {},
   "outputs": [
    {
     "name": "stdout",
     "output_type": "stream",
     "text": [
      "[5, 6, 7, 1, 2, 3, 4]\n"
     ]
    }
   ],
   "source": [
    "lst = [1,2,3,4,5,6,7]\n",
    "right_rot_via_slicing(lst, 3)\n",
    "print(lst)"
   ]
  },
  {
   "cell_type": "markdown",
   "metadata": {},
   "source": [
    "This is O(n) runtime"
   ]
  },
  {
   "cell_type": "markdown",
   "metadata": {},
   "source": [
    "### __Exercise #2__<br>\n",
    "Given an input string, reverse string word by word. A word is a sequence of non-space characters. The input string does not contain leading or trailing spaces and the words are always separated by a single space.\n",
    "\n",
    "For example,\n",
    "Given s = \"the sky is blue\",\n",
    "return \"blue is sky the\"."
   ]
  },
  {
   "cell_type": "code",
   "execution_count": 20,
   "metadata": {
    "collapsed": true
   },
   "outputs": [],
   "source": [
    "# Pythonic way\n",
    "def rev_string_by_word(string):\n",
    "    words = string.split(' ')\n",
    "    return ' '.join(words[::-1])"
   ]
  },
  {
   "cell_type": "code",
   "execution_count": 19,
   "metadata": {},
   "outputs": [
    {
     "data": {
      "text/plain": [
       "'blue is sky the'"
      ]
     },
     "execution_count": 19,
     "metadata": {},
     "output_type": "execute_result"
    }
   ],
   "source": [
    "rev_string_by_word(\"the sky is blue\")"
   ]
  },
  {
   "cell_type": "code",
   "execution_count": 29,
   "metadata": {
    "collapsed": true
   },
   "outputs": [],
   "source": [
    "# By Stack\n",
    "def rev_string_by_word2(string):\n",
    "    words = []\n",
    "    \n",
    "    start_idx = 0\n",
    "    for idx, char in enumerate(string):\n",
    "        \n",
    "        if char == ' ':\n",
    "            words.append(string[start_idx:idx])\n",
    "            start_idx = idx+1\n",
    "    \n",
    "    if char != ' ':\n",
    "        words.append(string[start_idx:idx+1])\n",
    "    \n",
    "    return ' '.join(reversed(words))\n",
    "            "
   ]
  },
  {
   "cell_type": "code",
   "execution_count": 30,
   "metadata": {},
   "outputs": [
    {
     "data": {
      "text/plain": [
       "'blue is sky the'"
      ]
     },
     "execution_count": 30,
     "metadata": {},
     "output_type": "execute_result"
    }
   ],
   "source": [
    "rev_string_by_word2(\"the sky is blue\")"
   ]
  },
  {
   "cell_type": "markdown",
   "metadata": {},
   "source": [
    "### __Exercise #3__<br>\n",
    "Find the kth largest element in an unsorted array. Note that it is the kth largest element in the sorted order, not the kth distinct element.\n",
    "\n",
    "For example, given [3,2,1,5,6,4] and k = 2, return 5.\n",
    "\n",
    "Note: You may assume k is always valid, 1 ≤ k ≤ array's length."
   ]
  },
  {
   "cell_type": "code",
   "execution_count": 32,
   "metadata": {
    "collapsed": true
   },
   "outputs": [],
   "source": [
    "def k_largest_ele(lst, k):\n",
    "    return sorted(set(lst))[-k]"
   ]
  },
  {
   "cell_type": "code",
   "execution_count": 33,
   "metadata": {},
   "outputs": [
    {
     "data": {
      "text/plain": [
       "5"
      ]
     },
     "execution_count": 33,
     "metadata": {},
     "output_type": "execute_result"
    }
   ],
   "source": [
    "lst =  [3,2,1,5,6,4]\n",
    "k_largest_ele(lst, 2)"
   ]
  },
  {
   "cell_type": "markdown",
   "metadata": {},
   "source": [
    "### __Exercise #4__<br>\n",
    "Given a stream of integers and a window size, calculate the moving average of all integers in the sliding window."
   ]
  },
  {
   "cell_type": "code",
   "execution_count": 48,
   "metadata": {
    "collapsed": true
   },
   "outputs": [],
   "source": [
    "class MovingAverage:\n",
    "    def __init__(self, window):\n",
    "        self._window = window\n",
    "        self._array = []\n",
    "        self._sum = 0\n",
    "        \n",
    "    def add_vals(self, val):\n",
    "        self._sum += val\n",
    "        if len(self._array) <= self._window:\n",
    "            self._array.append(val)\n",
    "        else:\n",
    "            self._sum -= self._array.pop(0)\n",
    "            \n",
    "        return self._sum / len(self._array)"
   ]
  },
  {
   "cell_type": "code",
   "execution_count": 49,
   "metadata": {},
   "outputs": [],
   "source": [
    "ma = MovingAverage(3)"
   ]
  },
  {
   "cell_type": "code",
   "execution_count": 50,
   "metadata": {},
   "outputs": [
    {
     "name": "stdout",
     "output_type": "stream",
     "text": [
      "0.0\n",
      "0.5\n",
      "1.0\n",
      "1.5\n",
      "3.3333333333333335\n"
     ]
    }
   ],
   "source": [
    "for val in range(5):\n",
    "    print(ma.add_vals(val))"
   ]
  },
  {
   "cell_type": "markdown",
   "metadata": {},
   "source": [
    "### __Exercise #5__<br>\n",
    "Given a m * n matrix, if an element is 0, set its entire row and column to 0.\n",
    "Do it in place."
   ]
  },
  {
   "cell_type": "code",
   "execution_count": 97,
   "metadata": {
    "collapsed": true
   },
   "outputs": [],
   "source": [
    "def set_mat_zeros(matrix):\n",
    "    \n",
    "    num_rows = len(matrix[:][0])\n",
    "    num_cols = len(matrix[0][:])\n",
    "    row_zeros = [1] * num_rows\n",
    "    col_zeros = [1] * num_cols\n",
    "    \n",
    "    # find which rows & cols need to be set to zero\n",
    "    for row_idx in range(num_rows):\n",
    "        for col_idx in range(num_cols):\n",
    "            if matrix[row_idx, col_idx] == 0:\n",
    "                row_zeros[row_idx] = 0\n",
    "                col_zeros[col_idx] = 0\n",
    "                \n",
    "    for row_idx in range(num_rows):\n",
    "        if row_zeros[row_idx] == 0:\n",
    "            matrix[row_idx, :] = 0\n",
    "    \n",
    "    for col_idx in range(num_cols):\n",
    "        if col_zeros[col_idx] == 0:\n",
    "            matrix[:, col_idx] = 0"
   ]
  },
  {
   "cell_type": "code",
   "execution_count": 98,
   "metadata": {
    "collapsed": true
   },
   "outputs": [],
   "source": [
    "import numpy as np"
   ]
  },
  {
   "cell_type": "code",
   "execution_count": 102,
   "metadata": {},
   "outputs": [
    {
     "data": {
      "text/plain": [
       "(5, 5)"
      ]
     },
     "execution_count": 102,
     "metadata": {},
     "output_type": "execute_result"
    }
   ],
   "source": [
    "matrix = np.random.randn(5, 5)\n",
    "matrix[3, 4] = 0\n",
    "matrix[0, 0] = 0\n",
    "matrix.shape"
   ]
  },
  {
   "cell_type": "code",
   "execution_count": 103,
   "metadata": {},
   "outputs": [],
   "source": [
    "set_mat_zeros(matrix)"
   ]
  },
  {
   "cell_type": "code",
   "execution_count": 104,
   "metadata": {},
   "outputs": [
    {
     "data": {
      "text/plain": [
       "array([[ 0.        ,  0.        ,  0.        ,  0.        ,  0.        ],\n",
       "       [ 0.        ,  1.98292127,  0.26001138, -1.99581902,  0.        ],\n",
       "       [ 0.        , -0.35352815,  1.0780366 , -0.73320744,  0.        ],\n",
       "       [ 0.        ,  0.        ,  0.        ,  0.        ,  0.        ],\n",
       "       [ 0.        ,  1.80688684,  0.23391097, -1.59435022,  0.        ]])"
      ]
     },
     "execution_count": 104,
     "metadata": {},
     "output_type": "execute_result"
    }
   ],
   "source": [
    "matrix"
   ]
  },
  {
   "cell_type": "code",
   "execution_count": null,
   "metadata": {
    "collapsed": true
   },
   "outputs": [],
   "source": []
  }
 ],
 "metadata": {
  "kernelspec": {
   "display_name": "Python 3",
   "language": "python",
   "name": "python3"
  },
  "language_info": {
   "codemirror_mode": {
    "name": "ipython",
    "version": 3
   },
   "file_extension": ".py",
   "mimetype": "text/x-python",
   "name": "python",
   "nbconvert_exporter": "python",
   "pygments_lexer": "ipython3",
   "version": "3.6.3"
  }
 },
 "nbformat": 4,
 "nbformat_minor": 2
}
